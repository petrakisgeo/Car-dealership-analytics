{
 "cells": [
  {
   "cell_type": "markdown",
   "metadata": {},
   "source": []
  },
  {
   "cell_type": "code",
   "execution_count": 2,
   "metadata": {},
   "outputs": [
    {
     "name": "stdout",
     "output_type": "stream",
     "text": [
      "     model  year transmission  mileage fuelType    tax   mpg  engineSize  \\\n",
      "0   Fiesta  2017    Automatic    15944   Petrol  150.0  57.7         1.0   \n",
      "1    Focus  2018       Manual     9083   Petrol  150.0  57.7         1.0   \n",
      "2    Focus  2017       Manual    12456   Petrol  150.0  57.7         1.0   \n",
      "3   Fiesta  2019       Manual    10460   Petrol  145.0  40.3         1.5   \n",
      "4   Fiesta  2019    Automatic     1482   Petrol  145.0  48.7         1.0   \n",
      "\n",
      "   price  \n",
      "0  12000  \n",
      "1  14000  \n",
      "2  13000  \n",
      "3  17500  \n",
      "4  16500  \n",
      "model            object\n",
      "year              int64\n",
      "transmission     object\n",
      "mileage           int64\n",
      "fuelType         object\n",
      "tax             float64\n",
      "mpg             float64\n",
      "engineSize      float64\n",
      "price             int64\n",
      "dtype: object\n"
     ]
    }
   ],
   "source": [
    "# load data\n",
    "import pandas as pd\n",
    "URL = \"https://cf-courses-data.s3.us.cloud-object-storage.appdomain.cloud/IBMSkillsNetwork-AI0271EN-SkillsNetwork/labs/v1/m3/data/used_car_price_analysis.csv\"\n",
    "cardf = pd.read_csv(URL)\n",
    "print(cardf.head())\n",
    "print(cardf.dtypes)\n"
   ]
  },
  {
   "cell_type": "code",
   "execution_count": 3,
   "metadata": {},
   "outputs": [
    {
     "data": {
      "text/html": [
       "<div>\n",
       "<style scoped>\n",
       "    .dataframe tbody tr th:only-of-type {\n",
       "        vertical-align: middle;\n",
       "    }\n",
       "\n",
       "    .dataframe tbody tr th {\n",
       "        vertical-align: top;\n",
       "    }\n",
       "\n",
       "    .dataframe thead th {\n",
       "        text-align: right;\n",
       "    }\n",
       "</style>\n",
       "<table border=\"1\" class=\"dataframe\">\n",
       "  <thead>\n",
       "    <tr style=\"text-align: right;\">\n",
       "      <th></th>\n",
       "      <th>model</th>\n",
       "      <th>year</th>\n",
       "      <th>transmission</th>\n",
       "      <th>mileage</th>\n",
       "      <th>fuelType</th>\n",
       "      <th>tax</th>\n",
       "      <th>mpg</th>\n",
       "      <th>engineSize</th>\n",
       "      <th>price</th>\n",
       "    </tr>\n",
       "  </thead>\n",
       "  <tbody>\n",
       "    <tr>\n",
       "      <th>0</th>\n",
       "      <td>Fiesta</td>\n",
       "      <td>2017</td>\n",
       "      <td>Automatic</td>\n",
       "      <td>15944</td>\n",
       "      <td>Petrol</td>\n",
       "      <td>150.0</td>\n",
       "      <td>57.7</td>\n",
       "      <td>1.0</td>\n",
       "      <td>12000</td>\n",
       "    </tr>\n",
       "    <tr>\n",
       "      <th>1</th>\n",
       "      <td>Focus</td>\n",
       "      <td>2018</td>\n",
       "      <td>Manual</td>\n",
       "      <td>9083</td>\n",
       "      <td>Petrol</td>\n",
       "      <td>150.0</td>\n",
       "      <td>57.7</td>\n",
       "      <td>1.0</td>\n",
       "      <td>14000</td>\n",
       "    </tr>\n",
       "    <tr>\n",
       "      <th>2</th>\n",
       "      <td>Focus</td>\n",
       "      <td>2017</td>\n",
       "      <td>Manual</td>\n",
       "      <td>12456</td>\n",
       "      <td>Petrol</td>\n",
       "      <td>150.0</td>\n",
       "      <td>57.7</td>\n",
       "      <td>1.0</td>\n",
       "      <td>13000</td>\n",
       "    </tr>\n",
       "    <tr>\n",
       "      <th>3</th>\n",
       "      <td>Fiesta</td>\n",
       "      <td>2019</td>\n",
       "      <td>Manual</td>\n",
       "      <td>10460</td>\n",
       "      <td>Petrol</td>\n",
       "      <td>145.0</td>\n",
       "      <td>40.3</td>\n",
       "      <td>1.5</td>\n",
       "      <td>17500</td>\n",
       "    </tr>\n",
       "    <tr>\n",
       "      <th>4</th>\n",
       "      <td>Fiesta</td>\n",
       "      <td>2019</td>\n",
       "      <td>Automatic</td>\n",
       "      <td>1482</td>\n",
       "      <td>Petrol</td>\n",
       "      <td>145.0</td>\n",
       "      <td>48.7</td>\n",
       "      <td>1.0</td>\n",
       "      <td>16500</td>\n",
       "    </tr>\n",
       "  </tbody>\n",
       "</table>\n",
       "</div>"
      ],
      "text/plain": [
       "     model  year transmission  mileage fuelType    tax   mpg  engineSize  \\\n",
       "0   Fiesta  2017    Automatic    15944   Petrol  150.0  57.7         1.0   \n",
       "1    Focus  2018       Manual     9083   Petrol  150.0  57.7         1.0   \n",
       "2    Focus  2017       Manual    12456   Petrol  150.0  57.7         1.0   \n",
       "3   Fiesta  2019       Manual    10460   Petrol  145.0  40.3         1.5   \n",
       "4   Fiesta  2019    Automatic     1482   Petrol  145.0  48.7         1.0   \n",
       "\n",
       "   price  \n",
       "0  12000  \n",
       "1  14000  \n",
       "2  13000  \n",
       "3  17500  \n",
       "4  16500  "
      ]
     },
     "execution_count": 3,
     "metadata": {},
     "output_type": "execute_result"
    }
   ],
   "source": [
    "# Find columns with null values\n",
    "columns_w_null = cardf.columns[cardf.isnull().any()].tolist()\n",
    "\n",
    "# Fill columns with each column mean value\n",
    "for col in columns_w_null:\n",
    "    cardf[col] = cardf[col].fillna(cardf[col].mean())\n",
    "\n",
    "cardf.drop_duplicates(inplace=True)\n",
    "cardf.head()"
   ]
  },
  {
   "cell_type": "code",
   "execution_count": 4,
   "metadata": {},
   "outputs": [
    {
     "data": {
      "text/plain": [
       "price         1.000000\n",
       "year          0.635715\n",
       "mileage      -0.530483\n",
       "engineSize    0.411451\n",
       "tax           0.405970\n",
       "mpg          -0.346263\n",
       "Name: price, dtype: float64"
      ]
     },
     "execution_count": 4,
     "metadata": {},
     "output_type": "execute_result"
    }
   ],
   "source": [
    "# Check Feature Correlation for non-categorical values\n",
    "numerical_columns = cardf.columns[cardf.dtypes != object].tolist()\n",
    "correlation_matrix = cardf[numerical_columns].corr()\n",
    "# Sort according to absolute value\n",
    "correlation_matrix['price'].sort_values(key= lambda x: abs(x), ascending=False)"
   ]
  },
  {
   "cell_type": "code",
   "execution_count": 5,
   "metadata": {},
   "outputs": [
    {
     "name": "stdout",
     "output_type": "stream",
     "text": [
      "          model\n",
      "fuelType       \n",
      "Diesel     5706\n",
      "Electric      2\n",
      "Hybrid       22\n",
      "Other         1\n",
      "Petrol    12081\n"
     ]
    }
   ],
   "source": [
    "# Count cars per fuel type \n",
    "cars_per_fueltype = cardf.groupby('fuelType').count()\n",
    "print(cars_per_fueltype[['model']])"
   ]
  },
  {
   "cell_type": "code",
   "execution_count": 7,
   "metadata": {},
   "outputs": [
    {
     "data": {
      "text/plain": [
       "<Axes: xlabel='transmission', ylabel='price'>"
      ]
     },
     "execution_count": 7,
     "metadata": {},
     "output_type": "execute_result"
    },
    {
     "data": {
      "image/png": "[encoded data removed]",
      "text/plain": [
       "<Figure size 640x480 with 1 Axes>"
      ]
     },
     "metadata": {},
     "output_type": "display_data"
    }
   ],
   "source": [
    "# Check for outliers\n",
    "import seaborn as sns\n",
    "\n",
    "sns.boxplot(x=cardf['transmission'], y=cardf['price'])\n"
   ]
  },
  {
   "cell_type": "code",
   "execution_count": null,
   "metadata": {},
   "outputs": [],
   "source": []
  }
 ],
 "metadata": {
  "kernelspec": {
   "display_name": "Python 3",
   "language": "python",
   "name": "python3"
  },
  "language_info": {
   "codemirror_mode": {
    "name": "ipython",
    "version": 3
   },
   "file_extension": ".py",
   "mimetype": "text/x-python",
   "name": "python",
   "nbconvert_exporter": "python",
   "pygments_lexer": "ipython3",
   "version": "3.12.1"
  }
 },
 "nbformat": 4,
 "nbformat_minor": 2
}
